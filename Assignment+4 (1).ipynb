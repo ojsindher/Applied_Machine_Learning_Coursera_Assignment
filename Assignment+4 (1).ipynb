{
 "cells": [
  {
   "cell_type": "markdown",
   "metadata": {},
   "source": [
    "---\n",
    "\n",
    "_You are currently looking at **version 1.1** of this notebook. To download notebooks and datafiles, as well as get help on Jupyter notebooks in the Coursera platform, visit the [Jupyter Notebook FAQ](https://www.coursera.org/learn/python-machine-learning/resources/bANLa) course resource._\n",
    "\n",
    "---"
   ]
  },
  {
   "cell_type": "code",
   "execution_count": 13,
   "metadata": {
    "collapsed": true
   },
   "outputs": [],
   "source": [
    "import pandas as pd\n",
    "import numpy as np\n",
    "from sklearn.manifold import MDS\n",
    "from adspy_shared_utilities import plot_labelled_scatter\n",
    "from sklearn.preprocessing import MinMaxScaler, LabelEncoder\n",
    "from sklearn.model_selection import train_test_split, cross_val_score\n",
    "from sklearn.metrics import roc_auc_score\n",
    "from sklearn.ensemble import RandomForestClassifier\n",
    "\n",
    "def blight_model():\n",
    "    \n",
    "    # Your code here\n",
    "    parse_dates= ['ticket_issued_date', 'hearing_date']\n",
    "    train_data = pd.read_csv('train.csv', sep=\",\", encoding='cp1252', parse_dates=parse_dates, low_memory=False)\n",
    "    test_data = pd.read_csv('test.csv', sep=\",\", encoding='cp1252', parse_dates=parse_dates, low_memory=False)\n",
    "    test_data_index = test_data['ticket_id']\n",
    "    \n",
    "    train_X = train_data.loc[:, ['ticket_id', 'agency_name', 'inspector_name', 'violator_name',\n",
    "       'violation_street_number', 'violation_street_name',\n",
    "       'violation_zip_code', 'mailing_address_str_number',\n",
    "       'mailing_address_str_name', 'city', 'state', 'zip_code',\n",
    "       'non_us_str_code', 'country', 'ticket_issued_date', 'hearing_date',\n",
    "       'violation_code', 'violation_description', 'disposition', 'fine_amount',\n",
    "       'admin_fee', 'state_fee', 'late_fee', 'discount_amount',\n",
    "       'clean_up_cost', 'judgment_amount', 'grafitti_status']]\n",
    "    \n",
    "    total_data = pd.concat((train_X, test_data), axis=0)\n",
    "    \n",
    "    col = ['agency_name', 'inspector_name', 'violator_name',\n",
    "           'violation_street_number', 'violation_street_name',\n",
    "           'violation_zip_code', 'mailing_address_str_number',\n",
    "           'mailing_address_str_name', 'city', 'state', 'zip_code',\n",
    "           'non_us_str_code', 'country', 'violation_code', 'violation_description',\n",
    "           'disposition', 'grafitti_status']\n",
    "    X_label = total_data.loc[:,col] \n",
    "    for i in range(len(col)):\n",
    "        X_label.iloc[:,i] = LabelEncoder().fit_transform(X_label.iloc[:,i].astype(str))\n",
    "\n",
    "    col2 = ['fine_amount', 'admin_fee', 'state_fee', 'late_fee', \n",
    "           'discount_amount', 'clean_up_cost', 'judgment_amount']\n",
    "    X_label_2 = total_data.loc[:,col2]\n",
    "    \n",
    "    tic_issue_hear_diff = ((total_data.loc[:, 'hearing_date'] - total_data.loc[:, 'ticket_issued_date'])\n",
    "                          .astype('timedelta64[D]').astype(float).to_frame())\n",
    "    tic_issue_hear_diff.columns = ['tic_issue_hear_diff']\n",
    "    \n",
    "    total_data_p = pd.concat((X_label, X_label_2, tic_issue_hear_diff), axis = 1)\n",
    "    \n",
    "    train_data_p = pd.concat((total_data_p[:250306], train_data.loc[:,'compliance']), axis=1)\n",
    "    test_data_p = total_data_p[250306:]\n",
    "    \n",
    "    train_data_p.dropna(inplace = True)\n",
    "    train_data_p.replace([np.inf, -np.inf], np.nan, inplace=True)\n",
    "    train_data_p.fillna(0, inplace=True)\n",
    "    \n",
    "    test_data_p.replace([np.inf, -np.inf], np.nan, inplace=True)\n",
    "    test_data_p.fillna(0, inplace=True)\n",
    "    \n",
    "    train_Y = train_data_p.loc[:, 'compliance']\n",
    "    train_XX = train_data_p.drop(['compliance'], axis=1)\n",
    "    train_XX.reset_index(drop=True, inplace=True)\n",
    "    train_Y.reset_index(drop=True, inplace=True)\n",
    "\n",
    "    scl = MinMaxScaler().fit(train_XX)\n",
    "    train_XX = scl.transform(train_XX)\n",
    "\n",
    "    cls = RandomForestClassifier().fit(train_XX, train_Y)\n",
    "    y_pred_proba = cls.predict_proba(test_data_p)\n",
    "    \n",
    "    result = pd.Series(y_pred_proba[:,1], index=test_data_index)\n",
    "    \n",
    "    return result"
   ]
  }
 ],
 "metadata": {
  "coursera": {
   "course_slug": "python-machine-learning",
   "graded_item_id": "nNS8l",
   "launcher_item_id": "yWWk7",
   "part_id": "w8BSS"
  },
  "kernelspec": {
   "display_name": "Python 3",
   "language": "python",
   "name": "python3"
  },
  "language_info": {
   "codemirror_mode": {
    "name": "ipython",
    "version": 3
   },
   "file_extension": ".py",
   "mimetype": "text/x-python",
   "name": "python",
   "nbconvert_exporter": "python",
   "pygments_lexer": "ipython3",
   "version": "3.6.2"
  }
 },
 "nbformat": 4,
 "nbformat_minor": 2
}
